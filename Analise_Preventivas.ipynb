{
 "cells": [
  {
   "metadata": {
    "ExecuteTime": {
     "end_time": "2025-07-11T14:07:43.361994Z",
     "start_time": "2025-07-11T14:07:39.674107Z"
    }
   },
   "cell_type": "code",
   "source": [
    "from app.common.jira_handling import JiraHandling\n",
    "import os\n",
    "import pandas as pd\n",
    "\n",
    "corretivas_raw = JiraHandling(\n",
    "            os.getenv(\"URL\"),\n",
    "            os.getenv(\"USER_JIRA\"),\n",
    "            os.getenv(\"API_TOKEN\")\n",
    "        )\n",
    "corretivas_raw.set_jql(\"perkons-corretivas-rmgv\",\"2025-07-01\", dt_final=\"2025-08-01\")\n",
    "chamados = corretivas_raw.get_statistic_corrective()\n",
    "df = pd.DataFrame(chamados)"
   ],
   "id": "5b83b15361de7f53",
   "outputs": [
    {
     "ename": "ValueError",
     "evalue": "If using all scalar values, you must pass an index",
     "output_type": "error",
     "traceback": [
      "\u001B[31m---------------------------------------------------------------------------\u001B[39m",
      "\u001B[31mValueError\u001B[39m                                Traceback (most recent call last)",
      "\u001B[36mCell\u001B[39m\u001B[36m \u001B[39m\u001B[32mIn[11]\u001B[39m\u001B[32m, line 12\u001B[39m\n\u001B[32m     10\u001B[39m corretivas_raw.set_jql(\u001B[33m\"\u001B[39m\u001B[33mperkons-corretivas-rmgv\u001B[39m\u001B[33m\"\u001B[39m,\u001B[33m\"\u001B[39m\u001B[33m2025-07-01\u001B[39m\u001B[33m\"\u001B[39m, dt_final=\u001B[33m\"\u001B[39m\u001B[33m2025-08-01\u001B[39m\u001B[33m\"\u001B[39m)\n\u001B[32m     11\u001B[39m chamados = corretivas_raw.get_statistic_corrective()\n\u001B[32m---> \u001B[39m\u001B[32m12\u001B[39m df = \u001B[43mpd\u001B[49m\u001B[43m.\u001B[49m\u001B[43mDataFrame\u001B[49m\u001B[43m(\u001B[49m\u001B[43mchamados\u001B[49m\u001B[43m)\u001B[49m\n",
      "\u001B[36mFile \u001B[39m\u001B[32m~\\Desktop\\Projetos\\relatoriojirav3\\.venv\\Lib\\site-packages\\pandas\\core\\frame.py:778\u001B[39m, in \u001B[36mDataFrame.__init__\u001B[39m\u001B[34m(self, data, index, columns, dtype, copy)\u001B[39m\n\u001B[32m    772\u001B[39m     mgr = \u001B[38;5;28mself\u001B[39m._init_mgr(\n\u001B[32m    773\u001B[39m         data, axes={\u001B[33m\"\u001B[39m\u001B[33mindex\u001B[39m\u001B[33m\"\u001B[39m: index, \u001B[33m\"\u001B[39m\u001B[33mcolumns\u001B[39m\u001B[33m\"\u001B[39m: columns}, dtype=dtype, copy=copy\n\u001B[32m    774\u001B[39m     )\n\u001B[32m    776\u001B[39m \u001B[38;5;28;01melif\u001B[39;00m \u001B[38;5;28misinstance\u001B[39m(data, \u001B[38;5;28mdict\u001B[39m):\n\u001B[32m    777\u001B[39m     \u001B[38;5;66;03m# GH#38939 de facto copy defaults to False only in non-dict cases\u001B[39;00m\n\u001B[32m--> \u001B[39m\u001B[32m778\u001B[39m     mgr = \u001B[43mdict_to_mgr\u001B[49m\u001B[43m(\u001B[49m\u001B[43mdata\u001B[49m\u001B[43m,\u001B[49m\u001B[43m \u001B[49m\u001B[43mindex\u001B[49m\u001B[43m,\u001B[49m\u001B[43m \u001B[49m\u001B[43mcolumns\u001B[49m\u001B[43m,\u001B[49m\u001B[43m \u001B[49m\u001B[43mdtype\u001B[49m\u001B[43m=\u001B[49m\u001B[43mdtype\u001B[49m\u001B[43m,\u001B[49m\u001B[43m \u001B[49m\u001B[43mcopy\u001B[49m\u001B[43m=\u001B[49m\u001B[43mcopy\u001B[49m\u001B[43m,\u001B[49m\u001B[43m \u001B[49m\u001B[43mtyp\u001B[49m\u001B[43m=\u001B[49m\u001B[43mmanager\u001B[49m\u001B[43m)\u001B[49m\n\u001B[32m    779\u001B[39m \u001B[38;5;28;01melif\u001B[39;00m \u001B[38;5;28misinstance\u001B[39m(data, ma.MaskedArray):\n\u001B[32m    780\u001B[39m     \u001B[38;5;28;01mfrom\u001B[39;00m\u001B[38;5;250m \u001B[39m\u001B[34;01mnumpy\u001B[39;00m\u001B[34;01m.\u001B[39;00m\u001B[34;01mma\u001B[39;00m\u001B[38;5;250m \u001B[39m\u001B[38;5;28;01mimport\u001B[39;00m mrecords\n",
      "\u001B[36mFile \u001B[39m\u001B[32m~\\Desktop\\Projetos\\relatoriojirav3\\.venv\\Lib\\site-packages\\pandas\\core\\internals\\construction.py:503\u001B[39m, in \u001B[36mdict_to_mgr\u001B[39m\u001B[34m(data, index, columns, dtype, typ, copy)\u001B[39m\n\u001B[32m    499\u001B[39m     \u001B[38;5;28;01melse\u001B[39;00m:\n\u001B[32m    500\u001B[39m         \u001B[38;5;66;03m# dtype check to exclude e.g. range objects, scalars\u001B[39;00m\n\u001B[32m    501\u001B[39m         arrays = [x.copy() \u001B[38;5;28;01mif\u001B[39;00m \u001B[38;5;28mhasattr\u001B[39m(x, \u001B[33m\"\u001B[39m\u001B[33mdtype\u001B[39m\u001B[33m\"\u001B[39m) \u001B[38;5;28;01melse\u001B[39;00m x \u001B[38;5;28;01mfor\u001B[39;00m x \u001B[38;5;129;01min\u001B[39;00m arrays]\n\u001B[32m--> \u001B[39m\u001B[32m503\u001B[39m \u001B[38;5;28;01mreturn\u001B[39;00m \u001B[43marrays_to_mgr\u001B[49m\u001B[43m(\u001B[49m\u001B[43marrays\u001B[49m\u001B[43m,\u001B[49m\u001B[43m \u001B[49m\u001B[43mcolumns\u001B[49m\u001B[43m,\u001B[49m\u001B[43m \u001B[49m\u001B[43mindex\u001B[49m\u001B[43m,\u001B[49m\u001B[43m \u001B[49m\u001B[43mdtype\u001B[49m\u001B[43m=\u001B[49m\u001B[43mdtype\u001B[49m\u001B[43m,\u001B[49m\u001B[43m \u001B[49m\u001B[43mtyp\u001B[49m\u001B[43m=\u001B[49m\u001B[43mtyp\u001B[49m\u001B[43m,\u001B[49m\u001B[43m \u001B[49m\u001B[43mconsolidate\u001B[49m\u001B[43m=\u001B[49m\u001B[43mcopy\u001B[49m\u001B[43m)\u001B[49m\n",
      "\u001B[36mFile \u001B[39m\u001B[32m~\\Desktop\\Projetos\\relatoriojirav3\\.venv\\Lib\\site-packages\\pandas\\core\\internals\\construction.py:114\u001B[39m, in \u001B[36marrays_to_mgr\u001B[39m\u001B[34m(arrays, columns, index, dtype, verify_integrity, typ, consolidate)\u001B[39m\n\u001B[32m    111\u001B[39m \u001B[38;5;28;01mif\u001B[39;00m verify_integrity:\n\u001B[32m    112\u001B[39m     \u001B[38;5;66;03m# figure out the index, if necessary\u001B[39;00m\n\u001B[32m    113\u001B[39m     \u001B[38;5;28;01mif\u001B[39;00m index \u001B[38;5;129;01mis\u001B[39;00m \u001B[38;5;28;01mNone\u001B[39;00m:\n\u001B[32m--> \u001B[39m\u001B[32m114\u001B[39m         index = \u001B[43m_extract_index\u001B[49m\u001B[43m(\u001B[49m\u001B[43marrays\u001B[49m\u001B[43m)\u001B[49m\n\u001B[32m    115\u001B[39m     \u001B[38;5;28;01melse\u001B[39;00m:\n\u001B[32m    116\u001B[39m         index = ensure_index(index)\n",
      "\u001B[36mFile \u001B[39m\u001B[32m~\\Desktop\\Projetos\\relatoriojirav3\\.venv\\Lib\\site-packages\\pandas\\core\\internals\\construction.py:667\u001B[39m, in \u001B[36m_extract_index\u001B[39m\u001B[34m(data)\u001B[39m\n\u001B[32m    664\u001B[39m         \u001B[38;5;28;01mraise\u001B[39;00m \u001B[38;5;167;01mValueError\u001B[39;00m(\u001B[33m\"\u001B[39m\u001B[33mPer-column arrays must each be 1-dimensional\u001B[39m\u001B[33m\"\u001B[39m)\n\u001B[32m    666\u001B[39m \u001B[38;5;28;01mif\u001B[39;00m \u001B[38;5;129;01mnot\u001B[39;00m indexes \u001B[38;5;129;01mand\u001B[39;00m \u001B[38;5;129;01mnot\u001B[39;00m raw_lengths:\n\u001B[32m--> \u001B[39m\u001B[32m667\u001B[39m     \u001B[38;5;28;01mraise\u001B[39;00m \u001B[38;5;167;01mValueError\u001B[39;00m(\u001B[33m\"\u001B[39m\u001B[33mIf using all scalar values, you must pass an index\u001B[39m\u001B[33m\"\u001B[39m)\n\u001B[32m    669\u001B[39m \u001B[38;5;28;01mif\u001B[39;00m have_series:\n\u001B[32m    670\u001B[39m     index = union_indexes(indexes)\n",
      "\u001B[31mValueError\u001B[39m: If using all scalar values, you must pass an index"
     ]
    }
   ],
   "execution_count": 11
  }
 ],
 "metadata": {
  "kernelspec": {
   "display_name": "Python 3",
   "language": "python",
   "name": "python3"
  },
  "language_info": {
   "codemirror_mode": {
    "name": "ipython",
    "version": 2
   },
   "file_extension": ".py",
   "mimetype": "text/x-python",
   "name": "python",
   "nbconvert_exporter": "python",
   "pygments_lexer": "ipython2",
   "version": "2.7.6"
  }
 },
 "nbformat": 4,
 "nbformat_minor": 5
}
